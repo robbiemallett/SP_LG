{
 "cells": [
  {
   "cell_type": "code",
   "execution_count": 10,
   "metadata": {},
   "outputs": [],
   "source": [
    "import os\n",
    "from smrt import make_snowpack, make_model, sensor, PSU, make_ice_column, sensor_list\n",
    "from smrt.utils import dmrt_qms_legacy\n",
    "import matplotlib.pyplot as plt\n",
    "import utils\n",
    "from tqdm import trange\n",
    "from pandas.plotting import register_matplotlib_converters\n",
    "register_matplotlib_converters()\n",
    "import numpy as np\n",
    "from classes import evolving_pack"
   ]
  },
  {
   "cell_type": "markdown",
   "metadata": {},
   "source": [
    "# Run a basic DMRT-QMS example"
   ]
  },
  {
   "cell_type": "code",
   "execution_count": 19,
   "metadata": {},
   "outputs": [
    {
     "name": "stdout",
     "output_type": "stream",
     "text": [
      "260.97029329156743\n"
     ]
    }
   ],
   "source": [
    "pc=0.2e-3\n",
    "snowpack = make_snowpack([10],\n",
    "                         microstructure_model=\"sticky_hard_spheres\",\n",
    "                         density=[300],\n",
    "                         temperature=[265],\n",
    "                         radius=pc,\n",
    "                         stickiness = 0.15)\n",
    "\n",
    "# create the sensor\n",
    "theta = 55\n",
    "radiometer = sensor.passive(19e9, theta)\n",
    "\n",
    "# dmrt_qms_legacy.set_dmrt_qms_path('/home/robbie/DMRT-QMS')\n",
    "\n",
    "mresult = dmrt_qms_legacy.run(radiometer, \n",
    "                              snowpack,\n",
    "                              dmrt_qms_path = '/home/robbie/DMRT-QMS/')\n",
    "\n",
    "print(mresult.TbV())"
   ]
  },
  {
   "cell_type": "markdown",
   "metadata": {},
   "source": [
    "# Now Create a Typical Ice Pack"
   ]
  },
  {
   "cell_type": "code",
   "execution_count": 3,
   "metadata": {},
   "outputs": [],
   "source": [
    "il = 10\n",
    "thickness = np.array([1/il] * il) #ice is 1.5m thick\n",
    "p_ex = np.array([1.0e-3] * (il)) #correlation length\n",
    "temperature = np.linspace(273.15-20., 273.15 - 1.8, il) #temperature gradient in the ice from -20 deg C at top to freezing temperature of water at bottom (-1.8 deg C)\n",
    "salinity = np.linspace(2., 10., il)*PSU #salinity profile ranging from salinity=2 at the top to salinity=10 at the bottom of the ice\n",
    "\n",
    "# create a multi-year sea ice column with assumption of spherical brine inclusions (brine_inclusion_shape=\"spheres\"), and 10% porosity:\n",
    "ice_type = 'firstyear' # first-year or multi-year sea ice\n",
    "porosity = 0.08 # ice porosity in fractions, [0..1]\n",
    "\n",
    "ice_column = make_ice_column(ice_type=ice_type,\n",
    "                            thickness=thickness,\n",
    "                            temperature=temperature,\n",
    "                            microstructure_model=\"exponential\",\n",
    "                            brine_inclusion_shape=\"random_needles\", #brine_inclusion_shape can be \"spheres\", \"random_needles\" or \"mix_spheres_needles\"\n",
    "                            salinity=salinity, #either 'salinity' or 'brine_volume_fraction' should be given for sea ice; if salinity is given, brine volume fraction is calculated in the model; if none is given, ice is treated as fresh water ice \n",
    "                            porosity = porosity, # either density or 'porosity' should be set for sea ice. If porosity is given, density is calculated in the model. If none is given, ice is treated as having a porosity of 0% (no air inclusions)\n",
    "                            corr_length=p_ex,\n",
    "                            add_water_substrate=\"ocean\" #see comment below\n",
    "                            )\n",
    "\n",
    "a = 2.9\n",
    "b = -782"
   ]
  },
  {
   "cell_type": "markdown",
   "metadata": {},
   "source": [
    "# Import a .PRO file"
   ]
  },
  {
   "cell_type": "code",
   "execution_count": 4,
   "metadata": {},
   "outputs": [],
   "source": [
    "test_filename = 'profile_example.pro'\n",
    "\n",
    "variables_dict = utils.get_pro_raw(test_filename)\n",
    "\n",
    "series_length = len(variables_dict['Date'])"
   ]
  },
  {
   "cell_type": "code",
   "execution_count": 15,
   "metadata": {},
   "outputs": [
    {
     "name": "stderr",
     "output_type": "stream",
     "text": [
      "100%|██████████| 5/5 [00:00<00:00, 89.92it/s]"
     ]
    },
    {
     "name": "stdout",
     "output_type": "stream",
     "text": [
      "qms\n",
      "ERROR\n",
      "qms\n",
      "ERROR\n",
      "qms\n",
      "ERROR\n",
      "qms\n",
      "ERROR\n",
      "qms\n",
      "ERROR\n"
     ]
    },
    {
     "name": "stderr",
     "output_type": "stream",
     "text": [
      "\n"
     ]
    }
   ],
   "source": [
    "my_stickiness = 0.2\n",
    "\n",
    "my_evolver = evolving_pack()\n",
    "\n",
    "for entrynum in trange(1,series_length,350):\n",
    "\n",
    "    my_snowpro = utils.snowpro_from_snapshot(entrynum,variables_dict)\n",
    "\n",
    "    my_snowpro.smrt_res = run_SMRT_on_snap(my_snowpro.iceframe,\n",
    "                                                     my_snowpro.snowframe,\n",
    "                                                     shs_factor=1/2,\n",
    "                                                     stickiness = my_stickiness,\n",
    "                                                     brine_inc_corr_len=1.0e-3,\n",
    "                                                     solver='dmrt_qms')\n",
    "\n",
    "#     my_evolver.update_pack(my_snowpro)\n",
    "\n",
    "\n",
    "# plt.plot(my_evolver.datetime_series, my_evolver.Comiso_SD_series, label=str(my_stickiness))\n",
    "\n",
    "\n",
    "# plt.xticks(rotation=90)\n",
    "# plt.legend()\n",
    "# plt.show()"
   ]
  },
  {
   "cell_type": "code",
   "execution_count": 14,
   "metadata": {},
   "outputs": [],
   "source": [
    "def run_SMRT_on_snap(ice_df,\n",
    "                         snow_df,\n",
    "                         shs_factor=1/2,\n",
    "                         stickiness = 0.1,\n",
    "                         brine_inc_corr_len=1.0e-3,\n",
    "                         solver='dort'):\n",
    "\n",
    "    snow_grain_radius_m = snow_df['grain size (mm)'] * 0.5 * 1e-3 * shs_factor\n",
    "\n",
    "    snow_df['radius_m'] = snow_grain_radius_m\n",
    "\n",
    "    snowpack = make_snowpack(thickness=snow_df['thickness_m'],\n",
    "\n",
    "                             microstructure_model=\"sticky_hard_spheres\",\n",
    "\n",
    "                             density=snow_df['element density (kg m-3)'],\n",
    "\n",
    "                             temperature=snow_df['element temperature (degC)'] + 273.15,\n",
    "\n",
    "                             radius=snow_df['radius_m'],\n",
    "\n",
    "                             stickiness=stickiness)\n",
    "\n",
    "    ice_col = make_ice_column(ice_type='firstyear',\n",
    "                              thickness=ice_df['thickness_m'],\n",
    "                              temperature=ice_df['element temperature (degC)'] + 273.15,\n",
    "                              microstructure_model='exponential',\n",
    "                              corr_length=np.array([brine_inc_corr_len] * len(ice_df['thickness_m'])),\n",
    "                              brine_inclusion_shape='spheres',\n",
    "                              salinity=ice_df['bulk salinity (g/kg)'] / 1000,\n",
    "                              density=ice_df['element density (kg m-3)'],\n",
    "                              add_water_substrate='ocean')\n",
    "\n",
    "    medium = snowpack + ice_col\n",
    "\n",
    "    # create the sensor\n",
    "    radiometer = sensor_list.passive([37e9, 19e9], 55, \"V\")\n",
    "\n",
    "    n_max_stream = 64  # TB calculation is more accurate if number of streams is increased (currently: default = 32);\n",
    "\n",
    "    try:\n",
    "        if solver == 'dort':\n",
    "            m = make_model(\"iba\", solver,\n",
    "                           rtsolver_options={\"n_max_stream\": n_max_stream})\n",
    "\n",
    "            # run the model for snow-covered sea ice:\n",
    "            res = m.run(radiometer, medium)\n",
    "        elif solver == 'dmrt_qms':\n",
    "            print('qms')\n",
    "            res = dmrt_qms_legacy.run(radiometer,\n",
    "                                      medium,\n",
    "                                      dmrt_qms_path = '/home/robbie/DMRT-QMS/')\n",
    "    except:\n",
    "        if solver == 'dort':\n",
    "            print('WARNING: Renormalisation failed - forcing...')\n",
    "\n",
    "            m = make_model(\"iba\", solver,\n",
    "                           rtsolver_options={\"n_max_stream\": n_max_stream,\n",
    "                                             \"phase_normalization\": 'forced'})\n",
    "\n",
    "            # run the model for snow-covered sea ice:\n",
    "            res = m.run(radiometer, medium)\n",
    "        else:\n",
    "            print('ERROR')\n",
    "            return(0)\n",
    "\n",
    "    return (res)"
   ]
  },
  {
   "cell_type": "code",
   "execution_count": null,
   "metadata": {},
   "outputs": [],
   "source": [
    "test_filename = 'profile_example.pro'\n",
    "\n",
    "variables_dict = utils.get_pro_raw(test_filename)\n",
    "\n",
    "series_length = len(variables_dict['Date'])\n",
    "\n",
    "for my_shs in np.arange(0.1,0.5,0.05):\n",
    "    \n",
    "    print(my_shs)\n",
    "    \n",
    "    my_evolver = evolving_pack()\n",
    "\n",
    "    for entrynum in trange(1,series_length,350):\n",
    "\n",
    "        my_snowpro = utils.snowpro_from_snapshot(entrynum,variables_dict)\n",
    "\n",
    "        my_snowpro.smrt_res = utils.run_SMRT_on_snapshot(my_snowpro.iceframe,\n",
    "                                                         my_snowpro.snowframe,\n",
    "                                                         shs_factor=my_shs,\n",
    "                                                         stickiness = 0.15,\n",
    "                                                         brine_inc_corr_len=1.0e-3)\n",
    "\n",
    "        my_evolver.update_pack(my_snowpro)\n",
    "        \n",
    "    plt.plot(my_evolver.datetime_series, my_evolver.Comiso_SD_series, label=str(rd2(my_shs)))\n",
    "\n",
    "plt.plot(my_evolver.datetime_series, my_evolver.snow_depth_series, label='real')\n",
    "\n",
    "plt.xticks(rotation=90)\n",
    "plt.legend()\n",
    "plt.show()"
   ]
  },
  {
   "cell_type": "code",
   "execution_count": null,
   "metadata": {},
   "outputs": [],
   "source": [
    "import utils\n",
    "from tqdm import trange\n",
    "import matplotlib.pyplot as plt\n",
    "from pandas.plotting import register_matplotlib_converters\n",
    "register_matplotlib_converters()\n",
    "import numpy as np\n",
    "from classes import evolving_pack\n",
    "\n",
    "test_filename = 'profile_example.pro'\n",
    "\n",
    "variables_dict = utils.get_pro_raw(test_filename)\n",
    "\n",
    "series_length = len(variables_dict['Date'])\n",
    "\n",
    "for my_var in np.arange(0.5,2,0.2):\n",
    "    \n",
    "    print(my_var)\n",
    "    \n",
    "    my_evolver = evolving_pack()\n",
    "\n",
    "    for entrynum in trange(1,series_length,350):\n",
    "\n",
    "        my_snowpro = utils.snowpro_from_snapshot(entrynum,variables_dict)\n",
    "\n",
    "        my_snowpro.smrt_res = utils.run_SMRT_on_snapshot(my_snowpro.iceframe,\n",
    "                                                         my_snowpro.snowframe,\n",
    "                                                         shs_factor=0.4,\n",
    "                                                         stickiness = 0.2,\n",
    "                                                         brine_inc_corr_len=my_var*1e-3)\n",
    "\n",
    "        my_evolver.update_pack(my_snowpro)\n",
    "        \n",
    "    plt.plot(my_evolver.datetime_series, my_evolver.Comiso_SD_series, label=str(rd2(my_var)))\n",
    "\n",
    "plt.plot(my_evolver.datetime_series, my_evolver.snow_depth_series, label='real')\n",
    "\n",
    "plt.xticks(rotation=90)\n",
    "plt.legend()\n",
    "plt.show()"
   ]
  },
  {
   "cell_type": "code",
   "execution_count": null,
   "metadata": {},
   "outputs": [],
   "source": [
    "import utils\n",
    "from tqdm import trange\n",
    "import matplotlib.pyplot as plt\n",
    "from pandas.plotting import register_matplotlib_converters\n",
    "register_matplotlib_converters()\n",
    "import numpy as np\n",
    "from classes import evolving_pack\n",
    "\n",
    "test_filename = 'profile_example.pro'\n",
    "\n",
    "variables_dict = utils.get_pro_raw(test_filename)\n",
    "\n",
    "series_length = len(variables_dict['Date'])\n",
    "\n",
    "my_evolver = evolving_pack()\n",
    "\n",
    "for entrynum in trange(1,series_length,100):\n",
    "\n",
    "    my_snowpro = utils.snowpro_from_snapshot(entrynum,variables_dict)\n",
    "\n",
    "    my_snowpro.smrt_res = utils.run_SMRT_on_snapshot(my_snowpro.iceframe,\n",
    "                                                     my_snowpro.snowframe,\n",
    "                                                     shs_factor=0.4,\n",
    "                                                     stickiness = 0.2,\n",
    "                                                     brine_inc_corr_len=1e-3)\n",
    "\n",
    "    my_evolver.update_pack(my_snowpro)\n",
    "\n",
    "plt.plot(my_evolver.datetime_series, my_evolver.Comiso_SD_series, label=str(my_var))\n",
    "\n",
    "plt.plot(my_evolver.datetime_series, my_evolver.snow_depth_series, label='real')\n",
    "\n",
    "plt.xticks(rotation=90)\n",
    "plt.legend()\n",
    "plt.show()"
   ]
  },
  {
   "cell_type": "code",
   "execution_count": null,
   "metadata": {},
   "outputs": [],
   "source": []
  },
  {
   "cell_type": "code",
   "execution_count": null,
   "metadata": {},
   "outputs": [],
   "source": [
    "\n",
    "def rd2(num):\n",
    "    return (np.round(num, decimals=2))"
   ]
  },
  {
   "cell_type": "code",
   "execution_count": 6,
   "metadata": {},
   "outputs": [
    {
     "ename": "NameError",
     "evalue": "name 'np' is not defined",
     "output_type": "error",
     "traceback": [
      "\u001b[0;31m---------------------------------------------------------------------------\u001b[0m",
      "\u001b[0;31mNameError\u001b[0m                                 Traceback (most recent call last)",
      "\u001b[0;32m<ipython-input-6-a363e06aa65d>\u001b[0m in \u001b[0;36m<module>\u001b[0;34m\u001b[0m\n\u001b[1;32m      1\u001b[0m \u001b[0mil\u001b[0m \u001b[0;34m=\u001b[0m \u001b[0;36m10\u001b[0m\u001b[0;34m\u001b[0m\u001b[0m\n\u001b[0;32m----> 2\u001b[0;31m \u001b[0mthickness\u001b[0m \u001b[0;34m=\u001b[0m \u001b[0mnp\u001b[0m\u001b[0;34m.\u001b[0m\u001b[0marray\u001b[0m\u001b[0;34m(\u001b[0m\u001b[0;34m[\u001b[0m\u001b[0;36m1\u001b[0m\u001b[0;34m/\u001b[0m\u001b[0mil\u001b[0m\u001b[0;34m]\u001b[0m \u001b[0;34m*\u001b[0m \u001b[0mil\u001b[0m\u001b[0;34m)\u001b[0m \u001b[0;31m#ice is 1.5m thick\u001b[0m\u001b[0;34m\u001b[0m\u001b[0m\n\u001b[0m\u001b[1;32m      3\u001b[0m \u001b[0mp_ex\u001b[0m \u001b[0;34m=\u001b[0m \u001b[0mnp\u001b[0m\u001b[0;34m.\u001b[0m\u001b[0marray\u001b[0m\u001b[0;34m(\u001b[0m\u001b[0;34m[\u001b[0m\u001b[0;36m1.0e-3\u001b[0m\u001b[0;34m]\u001b[0m \u001b[0;34m*\u001b[0m \u001b[0;34m(\u001b[0m\u001b[0mil\u001b[0m\u001b[0;34m)\u001b[0m\u001b[0;34m)\u001b[0m \u001b[0;31m#correlation length\u001b[0m\u001b[0;34m\u001b[0m\u001b[0m\n\u001b[1;32m      4\u001b[0m \u001b[0mtemperature\u001b[0m \u001b[0;34m=\u001b[0m \u001b[0mnp\u001b[0m\u001b[0;34m.\u001b[0m\u001b[0mlinspace\u001b[0m\u001b[0;34m(\u001b[0m\u001b[0;36m273.15\u001b[0m\u001b[0;34m-\u001b[0m\u001b[0;36m20.\u001b[0m\u001b[0;34m,\u001b[0m \u001b[0;36m273.15\u001b[0m \u001b[0;34m-\u001b[0m \u001b[0;36m1.8\u001b[0m\u001b[0;34m,\u001b[0m \u001b[0mil\u001b[0m\u001b[0;34m)\u001b[0m \u001b[0;31m#temperature gradient in the ice from -20 deg C at top to freezing temperature of water at bottom (-1.8 deg C)\u001b[0m\u001b[0;34m\u001b[0m\u001b[0m\n\u001b[1;32m      5\u001b[0m \u001b[0msalinity\u001b[0m \u001b[0;34m=\u001b[0m \u001b[0mnp\u001b[0m\u001b[0;34m.\u001b[0m\u001b[0mlinspace\u001b[0m\u001b[0;34m(\u001b[0m\u001b[0;36m2.\u001b[0m\u001b[0;34m,\u001b[0m \u001b[0;36m10.\u001b[0m\u001b[0;34m,\u001b[0m \u001b[0mil\u001b[0m\u001b[0;34m)\u001b[0m\u001b[0;34m*\u001b[0m\u001b[0mPSU\u001b[0m \u001b[0;31m#salinity profile ranging from salinity=2 at the top to salinity=10 at the bottom of the ice\u001b[0m\u001b[0;34m\u001b[0m\u001b[0m\n",
      "\u001b[0;31mNameError\u001b[0m: name 'np' is not defined"
     ]
    }
   ],
   "source": []
  },
  {
   "cell_type": "markdown",
   "metadata": {},
   "source": [
    "# Can we make SMRT predict the right gradient ratio for a given snow depth?"
   ]
  },
  {
   "cell_type": "code",
   "execution_count": null,
   "metadata": {},
   "outputs": [],
   "source": [
    "GR_SD = []\n",
    "Re_SD = []\n",
    "\n",
    "thickness, density, temperature, radius = [0.05],[300],[265],[1e-3]\n",
    "\n",
    "for t in range(5):\n",
    "    \n",
    "    total_thickness = np.sum(thickness)\n",
    "\n",
    "    snowpack = make_snowpack(thickness=thickness,\n",
    "\n",
    "                                 microstructure_model=\"sticky_hard_spheres\",\n",
    "\n",
    "                                 density=density,\n",
    "\n",
    "                                 temperature=temperature,\n",
    "\n",
    "                                 radius=radius,\n",
    "\n",
    "                                 stickiness=0.1)\n",
    "\n",
    "    medium = snowpack + ice_column\n",
    "\n",
    "    radiometer = sensor_list.passive([37e9, 19e9], 55, \"V\")\n",
    "\n",
    "    n_max_stream = 64  \n",
    "\n",
    "    m = make_model(\"iba\", \"dort\",\n",
    "                   rtsolver_options={\"n_max_stream\": n_max_stream})\n",
    "\n",
    "    res = m.run(radiometer, medium)\n",
    "    \n",
    "    TbV_37 = float(res.TbV()[0])\n",
    "    TbV_19 = float(res.TbV()[1])\n",
    "    GR = (TbV_37-TbV_19)/(TbV_37+TbV_19)\n",
    "\n",
    "    SD = (a+(b*GR))/100\n",
    "\n",
    "    GR_SD.append(rd2(SD))\n",
    "    Re_SD.append(total_thickness)\n",
    "                 \n",
    "    thickness.append(5)\n",
    "    density.append(300)\n",
    "    temperature.append(265)\n",
    "    radius.append(1e-3)\n",
    "    \n",
    "    print(thickness,density,temperature,radius)\n",
    "\n",
    "\n",
    "plt.plot(Re_SD,GR_SD)"
   ]
  },
  {
   "cell_type": "code",
   "execution_count": null,
   "metadata": {},
   "outputs": [],
   "source": []
  }
 ],
 "metadata": {
  "kernelspec": {
   "display_name": "Python 3",
   "language": "python",
   "name": "python3"
  },
  "language_info": {
   "codemirror_mode": {
    "name": "ipython",
    "version": 3
   },
   "file_extension": ".py",
   "mimetype": "text/x-python",
   "name": "python",
   "nbconvert_exporter": "python",
   "pygments_lexer": "ipython3",
   "version": "3.7.0"
  }
 },
 "nbformat": 4,
 "nbformat_minor": 2
}
